{
 "cells": [
  {
   "cell_type": "code",
   "execution_count": 25,
   "id": "25846a8c",
   "metadata": {},
   "outputs": [
    {
     "name": "stdout",
     "output_type": "stream",
     "text": [
      "Welcome to the Open Library Book Picker + Plot + Recommendations!\n",
      "Available genres: Fantasy, Science Fiction, Romance, Mystery, History, Horror, Thriller, Biographies, Young Adult, Poetry\n"
     ]
    },
    {
     "name": "stderr",
     "output_type": "stream",
     "text": [
      "c:\\Users\\BLF2359\\AppData\\Local\\Programs\\Python\\Python313\\Lib\\site-packages\\urllib3\\connectionpool.py:1097: InsecureRequestWarning: Unverified HTTPS request is being made to host 'openlibrary.org'. Adding certificate verification is strongly advised. See: https://urllib3.readthedocs.io/en/latest/advanced-usage.html#tls-warnings\n",
      "  warnings.warn(\n"
     ]
    },
    {
     "name": "stdout",
     "output_type": "stream",
     "text": [
      "\n",
      "🎯 Your main book pick:\n",
      "\n",
      "📚 Title: Harry Potter and the Deathly Hallows\n",
      "✍️ Author(s): J. K. Rowling\n"
     ]
    },
    {
     "name": "stderr",
     "output_type": "stream",
     "text": [
      "c:\\Users\\BLF2359\\AppData\\Local\\Programs\\Python\\Python313\\Lib\\site-packages\\urllib3\\connectionpool.py:1097: InsecureRequestWarning: Unverified HTTPS request is being made to host 'openlibrary.org'. Adding certificate verification is strongly advised. See: https://urllib3.readthedocs.io/en/latest/advanced-usage.html#tls-warnings\n",
      "  warnings.warn(\n"
     ]
    },
    {
     "name": "stdout",
     "output_type": "stream",
     "text": [
      "📝 Plot: Harry Potter is leaving Privet Drive for the last time. But as he climbs into the sidecar of Hagrid’s motorbike and they take to the skies, he knows Lord Voldemort and the Death Eaters will not be far behind.\n",
      "\n",
      "The protective charm that has kept him safe until now is broken. But the Dark Lord is breathing fear into everything he loves. And he knows he can’t keep hiding.\n",
      "\n",
      "To stop Voldemort, Harry knows he must find the remaining Horcruxes and destroy them.\n",
      "\n",
      "He will have to face his enemy in ...\n",
      "\n",
      "📖 You might also like:\n",
      "\n",
      "📚 Title: Hatchet\n",
      "✍️ Author(s): Gary Paulsen\n",
      "\n",
      "📚 Title: Mockingjay\n",
      "✍️ Author(s): Suzanne Collins\n",
      "\n",
      "📚 Title: The Hate U Give\n",
      "✍️ Author(s): Angie Thomas, Angie Thomas\n"
     ]
    }
   ],
   "source": [
    "import requests\n",
    "import random\n",
    "\n",
    "# Supported genres from Open Library\n",
    "supported_genres = [\n",
    "    \"fantasy\",\n",
    "    \"science_fiction\",\n",
    "    \"romance\",\n",
    "    \"mystery\",\n",
    "    \"history\",\n",
    "    \"horror\",\n",
    "    \"thriller\",\n",
    "    \"biographies\",\n",
    "    \"young_adult\",\n",
    "    \"poetry\",\n",
    "]\n",
    "\n",
    "def fetch_books(genre, limit=10):\n",
    "    url = f\"https://openlibrary.org/subjects/{genre}.json?limit={limit}\"\n",
    "    response = requests.get(url, verify = False)\n",
    "\n",
    "    data = response.json()\n",
    "    return [book for book in data.get(\"works\", []) if book.get(\"first_publish_year\", 0) > 1930]\n",
    "\n",
    "\n",
    "def get_description(work_key):\n",
    "    url = f\"https://openlibrary.org{work_key}.json\"\n",
    "    response = requests.get(url, verify = False)\n",
    "    if response.status_code != 200:\n",
    "        return \"No description available.\"\n",
    "    data = response.json()\n",
    "    desc = data.get(\"description\", \"No description available.\")\n",
    "    # Description can be string or dict\n",
    "    if isinstance(desc, dict):\n",
    "        return desc.get(\"value\", \"No description available.\")\n",
    "    return desc\n",
    "\n",
    "def display_book(book, show_description=True):\n",
    "    title = book.get(\"title\", \"Unknown Title\")\n",
    "    authors = [author[\"name\"] for author in book.get(\"authors\", [{\"name\": \"Unknown\"}])]\n",
    "    year = book.get(\"first_publish_year\", \"N/A\")\n",
    "    print(f\"\\n📚 Title: {title}\")\n",
    "    print(f\"✍️ Author(s): {', '.join(authors)}\")\n",
    "    if show_description:\n",
    "        work_key = book.get(\"key\", \"\")\n",
    "        description = get_description(work_key)\n",
    "        print(f\"📝 Plot: {description[:500]}{'...' if len(description) > 500 else ''}\")\n",
    "\n",
    "def main():\n",
    "    print(\"Welcome to the Open Library Book Picker + Plot + Recommendations!\")\n",
    "    print(\"Available genres:\", \", \".join(g.replace('_', ' ').title() for g in supported_genres))\n",
    "\n",
    "    genre = input(\"\\nEnter a genre from the list: \").strip().lower().replace(\" \", \"_\")\n",
    "\n",
    "    if genre not in supported_genres:\n",
    "        print(f\"\\n❌ Genre '{genre}' is not supported.\")\n",
    "        return\n",
    "\n",
    "    try:\n",
    "        books = fetch_books(genre, limit=10)\n",
    "        if not books:\n",
    "            print(\"❌ No books found.\")\n",
    "            return\n",
    "\n",
    "        # Pick and display main book with plot\n",
    "        main_book = random.choice(books)\n",
    "        print(\"\\n🎯 Your main book pick:\")\n",
    "        display_book(main_book, show_description=True)\n",
    "\n",
    "        # Pick 3 other recommendations\n",
    "        print(\"\\n📖 You might also like:\")\n",
    "        recommendations = random.sample([b for b in books if b != main_book], k=min(3, len(books)-1))\n",
    "        for rec in recommendations:\n",
    "            display_book(rec, show_description=False)\n",
    "\n",
    "    except Exception as e:\n",
    "        print(f\"⚠️ Error: {e}\")\n",
    "\n",
    "if __name__ == \"__main__\":\n",
    "    main()\n"
   ]
  },
  {
   "cell_type": "code",
   "execution_count": null,
   "id": "f0a41073",
   "metadata": {},
   "outputs": [],
   "source": []
  }
 ],
 "metadata": {
  "kernelspec": {
   "display_name": "Python 3",
   "language": "python",
   "name": "python3"
  },
  "language_info": {
   "codemirror_mode": {
    "name": "ipython",
    "version": 3
   },
   "file_extension": ".py",
   "mimetype": "text/x-python",
   "name": "python",
   "nbconvert_exporter": "python",
   "pygments_lexer": "ipython3",
   "version": "3.13.3"
  }
 },
 "nbformat": 4,
 "nbformat_minor": 5
}
